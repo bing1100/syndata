{
 "cells": [
  {
   "cell_type": "code",
   "execution_count": 1,
   "metadata": {},
   "outputs": [
    {
     "name": "stderr",
     "output_type": "stream",
     "text": [
      "/home/bhux/anaconda3/envs/s2pk/lib/python3.12/site-packages/tqdm/auto.py:21: TqdmWarning: IProgress not found. Please update jupyter and ipywidgets. See https://ipywidgets.readthedocs.io/en/stable/user_install.html\n",
      "  from .autonotebook import tqdm as notebook_tqdm\n"
     ]
    },
    {
     "name": "stdout",
     "output_type": "stream",
     "text": [
      "Random seed set as 0\n"
     ]
    }
   ],
   "source": [
    "import math\n",
    "\n",
    "import torch\n",
    "import torch.nn as nn\n",
    "\n",
    "from diffusers.optimization import get_scheduler\n",
    "from tqdm import tqdm\n",
    "\n",
    "import pandas as pd\n",
    "import numpy as np\n",
    "\n",
    "import random\n",
    "\n",
    "import os\n",
    "device = \"cuda\"\n",
    "def set_seed(seed: int = 42) -> None:\n",
    "    np.random.seed(seed)\n",
    "    random.seed(seed)\n",
    "    torch.manual_seed(seed)\n",
    "    torch.cuda.manual_seed(seed)\n",
    "    # When running on the CuDNN backend, two further options must be set\n",
    "    torch.backends.cudnn.deterministic = True\n",
    "    torch.backends.cudnn.benchmark = False\n",
    "    # Set a fixed value for the hash seed\n",
    "    os.environ[\"PYTHONHASHSEED\"] = str(seed)\n",
    "    print(f\"Random seed set as {seed}\")\n",
    "\n",
    "set_seed(0)\n"
   ]
  },
  {
   "cell_type": "code",
   "execution_count": 2,
   "metadata": {},
   "outputs": [],
   "source": [
    "save_location = \"/media/bhux/alpha/xsd_mvp/3000e_optimal_cat_normalized/\"\n",
    "\n",
    "# uniform, lg, gaussian\n",
    "\n",
    "NUMERICAL = 12\n",
    "CATEGORICAL = 0\n",
    "\n",
    "NUM_BINS = 15\n",
    "\n",
    "INFILLING_TYPE = ''\n",
    "NOISE_TYPE = ''"
   ]
  },
  {
   "cell_type": "code",
   "execution_count": 3,
   "metadata": {},
   "outputs": [
    {
     "name": "stdout",
     "output_type": "stream",
     "text": [
      "Caco2_Wang\n",
      "Lipophilicity_AstraZeneca\n",
      "Solubility_AqSolDB\n",
      "HydrationFreeEnergy_FreeSolv\n",
      "PPBR_AZ\n",
      "VDss_Lombardo\n",
      "Half_Life_Obach\n",
      "Clearance_Hepatocyte_AZ\n",
      "Clearance_Microsome_AZ\n",
      "LD50_Zhu\n",
      "herg_central_hERG_at_1uM\n",
      "herg_central_hERG_at_10uM\n",
      "Caco2_Wang_cat\n",
      "Lipophilicity_AstraZeneca_cat\n",
      "Solubility_AqSolDB_cat\n",
      "HydrationFreeEnergy_FreeSolv_cat\n",
      "PPBR_AZ_cat\n",
      "VDss_Lombardo_cat\n"
     ]
    },
    {
     "name": "stderr",
     "output_type": "stream",
     "text": [
      "/home/bhux/research/syndata/utils.py:268: RuntimeWarning: Mean of empty slice.\n",
      "  m.append(data.mean() if not np.isnan(data.mean()) else low)\n",
      "/home/bhux/anaconda3/envs/s2pk/lib/python3.12/site-packages/numpy/_core/_methods.py:147: RuntimeWarning: invalid value encountered in scalar divide\n",
      "  ret = ret.dtype.type(ret / rcount)\n",
      "/home/bhux/anaconda3/envs/s2pk/lib/python3.12/site-packages/numpy/_core/_methods.py:227: RuntimeWarning: Degrees of freedom <= 0 for slice\n",
      "  ret = _var(a, axis=axis, dtype=dtype, out=out, ddof=ddof,\n",
      "/home/bhux/anaconda3/envs/s2pk/lib/python3.12/site-packages/numpy/_core/_methods.py:184: RuntimeWarning: invalid value encountered in divide\n",
      "  arrmean = um.true_divide(arrmean, div, out=arrmean,\n",
      "/home/bhux/anaconda3/envs/s2pk/lib/python3.12/site-packages/numpy/_core/_methods.py:219: RuntimeWarning: invalid value encountered in scalar divide\n",
      "  ret = ret.dtype.type(ret / rcount)\n"
     ]
    },
    {
     "name": "stdout",
     "output_type": "stream",
     "text": [
      "Half_Life_Obach_cat\n",
      "Clearance_Hepatocyte_AZ_cat\n",
      "Clearance_Microsome_AZ_cat\n",
      "LD50_Zhu_cat\n",
      "herg_central_hERG_at_1uM_cat\n",
      "herg_central_hERG_at_10uM_cat\n",
      "30264\n",
      "2864\n",
      "24\n"
     ]
    }
   ],
   "source": [
    "from utils import remove_outliers, norm, sample_local_gaussian, convert_categorical, unison_shuffled_copies, categorical_norm\n",
    "\n",
    "PATH = \"./data/xtended_data_all.csv\"\n",
    "EMB_PATH = \"./data/xtended_emb_all_deberta_pubchem.npy\"\n",
    "\n",
    "f = pd.read_csv(PATH)\n",
    "drug_embeddings = np.load(EMB_PATH)\n",
    "smiles = f['Drug'].values\n",
    "vlists = {\n",
    "    col: f[col].values for col in f.drop(labels=['Drug'], axis=1).columns[:NUMERICAL] \n",
    "}\n",
    "\n",
    "inmask = remove_outliers([v for _,v in vlists.items()])\n",
    "\n",
    "smiles = smiles[inmask]\n",
    "vlists = {\n",
    "    k: v[inmask] for k,v in vlists.items()\n",
    "}\n",
    "\n",
    "vlists = {\n",
    "    k: norm(v) for k,v in vlists.items()\n",
    "}\n",
    "\n",
    "for col in f.drop(labels=['Drug'], axis=1).columns[NUMERICAL:NUMERICAL+CATEGORICAL]:\n",
    "    vlists[col] = f[col].values[inmask]\n",
    "\n",
    "nullmask = np.stack([\n",
    "    np.isnan(v)==False for _,v in vlists.items()\n",
    "    ], axis=-1)\n",
    "\n",
    "for col in f.drop(labels=['Drug'], axis=1).columns[:NUMERICAL]:\n",
    "    vlists[col+\"_cat\"], vlists[col] = categorical_norm(vlists[col], numbins=NUM_BINS)\n",
    "\n",
    "dmss = []\n",
    "for k,v in vlists.items():\n",
    "    vlists[k], dms = sample_local_gaussian(v, numbins=NUM_BINS)\n",
    "    dmss.append(dms)\n",
    "    print(k)\n",
    "\n",
    "\n",
    "# for col in f.drop(labels=['Drug'], axis=1).columns[NUMERICAL:]:\n",
    "#     nan = np.isnan(vlists[col])\n",
    "#     vlists[col] += 1\n",
    "#     vlists[col][nan] = 0\n",
    "\n",
    "# dmss = []\n",
    "# for k,v in vlists.items():\n",
    "#     dms = get_local_gaussian(v, numbins=50)\n",
    "#     dmss.append(dms)\n",
    "\n",
    "dataset = []\n",
    "for i, gt in enumerate(zip(*[v for _,v in vlists.items()])):\n",
    "    dataset.append({\n",
    "        \"sm\": smiles[i],\n",
    "        \"ft\": drug_embeddings[i],\n",
    "        \"ma\": nullmask[i],\n",
    "        \"gt\": np.array(gt),\n",
    "        \"od\": np.array(gt[NUMERICAL:]),\n",
    "    })\n",
    "    # print(gt)\n",
    "    # print(nullmask[i])\n",
    "    # break\n",
    "\n",
    "valCount = np.sum(nullmask, axis=0)*0.1\n",
    "dataset, rcomb = unison_shuffled_copies(dataset, nullmask)\n",
    "trdataset = []\n",
    "valdataset = []\n",
    "for c, d in zip(rcomb, dataset):\n",
    "    inc = False\n",
    "    for i, j in enumerate(list(c)):\n",
    "        if j and valCount[i] > 0:\n",
    "            valCount[i] -= 1\n",
    "            inc = True\n",
    "    if inc:\n",
    "        valdataset.append(d)\n",
    "    else:\n",
    "        trdataset.append(d)\n",
    "\n",
    "print(len(trdataset))\n",
    "print(len(valdataset))\n",
    "print(len(list(vlists.keys())))"
   ]
  },
  {
   "cell_type": "code",
   "execution_count": 4,
   "metadata": {},
   "outputs": [],
   "source": [
    "from torch.utils.data import Dataset\n",
    "\n",
    "class GaucamolDataset(Dataset):\n",
    "    def __init__(self, dataset) -> None:\n",
    "        self.dataset = dataset\n",
    "    \n",
    "    def __len__(self):\n",
    "        return len(self.dataset)\n",
    "\n",
    "    def __getitem__(self, idx):\n",
    "        return self.dataset[idx]\n",
    "    \n",
    "    def update(self, idx, delta):\n",
    "        item = self.dataset[idx][\"gt\"]\n",
    "        self.dataset[idx][\"gt\"] = item + delta\n",
    "\n",
    "trainset = GaucamolDataset(trdataset)\n",
    "valset = GaucamolDataset(valdataset)\n",
    "trainloader = torch.utils.data.DataLoader(trainset, batch_size=128, shuffle=True)\n",
    "valloader = torch.utils.data.DataLoader(valset, batch_size=128, shuffle=True)\n",
    "steps_per_epoch = len(trainset)\n",
    "DMSS = dmss[:NUMERICAL]"
   ]
  },
  {
   "cell_type": "code",
   "execution_count": 5,
   "metadata": {},
   "outputs": [],
   "source": [
    "def train(diffusion, ema, gamma, dataloader, optimizer, lr_scheduler, two_noise=False):\n",
    "    diffusion.train()\n",
    "    running_loss = 0\n",
    "    global_step = 0\n",
    "    for i, batch in enumerate(tqdm(dataloader)):\n",
    "        ft = batch['ft'].to(device).float()\n",
    "        gt = batch['gt'].to(device).float()\n",
    "        od = batch['od'].to(device).long()\n",
    "        mask = batch['ma'].to(device)\n",
    "        bs = ft.shape[0]\n",
    "\n",
    "        optimizer.zero_grad()\n",
    "        loss_multi, loss_gauss = diffusion.mixed_loss(ft, gt, od, mask, DMSS)\n",
    "\n",
    "        loss = loss_multi + loss_gauss\n",
    "        \n",
    "        loss.backward()\n",
    "        optimizer.step()\n",
    "        lr_scheduler.step()\n",
    "\n",
    "        ema.update_params(gamma)\n",
    "        gamma = ema.update_gamma(global_step)\n",
    "\n",
    "        running_loss += loss.item()\n",
    "        global_step += 1\n",
    "    return running_loss/global_step"
   ]
  },
  {
   "cell_type": "code",
   "execution_count": 6,
   "metadata": {},
   "outputs": [],
   "source": [
    "from sklearn.metrics import mean_squared_error\n",
    "import csv\n",
    "from utils import ohe_to_categories\n",
    "\n",
    "def evaluate(e, ema, dataloader):\n",
    "    ema.ema_model.eval()\n",
    "    before_mse = 0\n",
    "    running_mse = 0\n",
    "    global_step = 0\n",
    "    vals = {}\n",
    "    device = 'cuda'\n",
    "    ema.ema_model.to(device)\n",
    "    with torch.no_grad():\n",
    "        for i, batch in enumerate(tqdm(dataloader)):\n",
    "            sm = batch['sm']\n",
    "            mask = batch['ma'].repeat(1,2)\n",
    "            ft = batch['ft'].to(device).float()\n",
    "            gt = batch['gt'].to(device).float()\n",
    "            od = batch['od'].to(device).long()\n",
    "            bs = ft.shape[0]\n",
    "\n",
    "            x_in, generated_ys = ema.ema_model.sample(ft, bs, od, DMSS, clip_sample=True)\n",
    "\n",
    "            raw_mse = mean_squared_error(gt[mask].flatten().cpu(), x_in[mask].flatten().cpu())\n",
    "            mse = mean_squared_error(gt[mask].flatten().cpu(), generated_ys[mask].flatten().cpu())\n",
    "\n",
    "            for s, g in zip(sm, list(generated_ys.cpu().numpy())):\n",
    "                vals[s] = g\n",
    "            \n",
    "            before_mse += raw_mse\n",
    "            running_mse += mse\n",
    "            global_step += 1\n",
    "\n",
    "    with open(save_location+'{}_dict.csv'.format(e), 'w') as csv_file:  \n",
    "        writer = csv.writer(csv_file)\n",
    "        for key, value in vals.items():\n",
    "            writer.writerow([key, value])\n",
    "\n",
    "    return running_mse / global_step, before_mse / global_step\n",
    "            "
   ]
  },
  {
   "cell_type": "code",
   "execution_count": 7,
   "metadata": {},
   "outputs": [],
   "source": [
    "from ema import EMA\n",
    "lr = 0.00022643741661680812\n",
    "wd = 0.0004940511856069883\n",
    "warmup = 50\n",
    "n_timesteps = 2000\n",
    "n_inference_timesteps = 150\n",
    "num_epochs = 30000\n",
    "update_epochs = 500\n",
    "update_timesteps = int(num_epochs/update_epochs)\n",
    "gamma = 0.9739783641481703"
   ]
  },
  {
   "cell_type": "code",
   "execution_count": 8,
   "metadata": {},
   "outputs": [
    {
     "name": "stdout",
     "output_type": "stream",
     "text": [
      "Number of parameters: 40865868\n",
      "torch.Size([192])\n"
     ]
    }
   ],
   "source": [
    "\n",
    "\n",
    "from sdt import SDT\n",
    "from diffusion import GaussianMultinomialDiffusion\n",
    "torch.set_printoptions(profile=\"full\")\n",
    "\n",
    "\n",
    "total_num_steps = (steps_per_epoch * num_epochs)\n",
    "\n",
    "model = SDT(\n",
    "    time_dim = 64,\n",
    "    cond_size = 768,\n",
    "    patch_size = 64,\n",
    "    y_dim = NUMERICAL+(NUM_BINS+1)*(NUMERICAL+CATEGORICAL),\n",
    "    dim = 768,\n",
    "    depth = 12,\n",
    "    heads = 7,\n",
    "    mlp_dim = 512,\n",
    "    dropout =  0.16614739878727047,\n",
    "    emb_dropout =  0.16614739878727047,\n",
    ")\n",
    "model.to(device)\n",
    "\n",
    "total_params = sum(p.numel() for p in model.parameters())\n",
    "print(f\"Number of parameters: {total_params}\")\n",
    "\n",
    "diffusion = GaussianMultinomialDiffusion(\n",
    "    num_classes = np.array([(NUM_BINS+1) for _ in range(NUMERICAL+CATEGORICAL)]),\n",
    "    num_numerical_features = NUMERICAL,\n",
    "    denoise_fn = model,\n",
    "    device = device,\n",
    ")\n",
    "diffusion.to(device)\n",
    "\n",
    "ema = EMA(diffusion, gamma, total_num_steps)\n",
    "\n",
    "optimizer = torch.optim.AdamW(\n",
    "        model.parameters(),\n",
    "        lr=lr,\n",
    "        weight_decay=wd,\n",
    "    )\n",
    "\n",
    "lr_scheduler = get_scheduler(\n",
    "        \"cosine_with_restarts\",\n",
    "        optimizer=optimizer,\n",
    "        num_warmup_steps=warmup,\n",
    "        num_training_steps=total_num_steps,\n",
    "    )"
   ]
  },
  {
   "cell_type": "code",
   "execution_count": null,
   "metadata": {},
   "outputs": [
    {
     "name": "stderr",
     "output_type": "stream",
     "text": [
      "100%|██████████| 237/237 [00:11<00:00, 20.01it/s]\n"
     ]
    },
    {
     "name": "stdout",
     "output_type": "stream",
     "text": [
      "0 avgloss 0.6395241586719385\n"
     ]
    },
    {
     "name": "stderr",
     "output_type": "stream",
     "text": [
      "100%|██████████| 237/237 [00:10<00:00, 23.49it/s]\n"
     ]
    },
    {
     "name": "stdout",
     "output_type": "stream",
     "text": [
      "1 avgloss 0.6381343012117635\n"
     ]
    },
    {
     "name": "stderr",
     "output_type": "stream",
     "text": [
      "100%|██████████| 237/237 [00:10<00:00, 23.70it/s]\n"
     ]
    },
    {
     "name": "stdout",
     "output_type": "stream",
     "text": [
      "2 avgloss 0.6316374517694304\n"
     ]
    },
    {
     "name": "stderr",
     "output_type": "stream",
     "text": [
      "100%|██████████| 237/237 [00:09<00:00, 25.26it/s]\n"
     ]
    },
    {
     "name": "stdout",
     "output_type": "stream",
     "text": [
      "3 avgloss 0.6277973905897342\n"
     ]
    },
    {
     "name": "stderr",
     "output_type": "stream",
     "text": [
      "100%|██████████| 237/237 [00:10<00:00, 22.49it/s]\n"
     ]
    },
    {
     "name": "stdout",
     "output_type": "stream",
     "text": [
      "4 avgloss 0.6305067690112923\n"
     ]
    },
    {
     "name": "stderr",
     "output_type": "stream",
     "text": [
      "100%|██████████| 237/237 [00:10<00:00, 23.26it/s]\n"
     ]
    },
    {
     "name": "stdout",
     "output_type": "stream",
     "text": [
      "5 avgloss 0.6228757196337865\n"
     ]
    },
    {
     "name": "stderr",
     "output_type": "stream",
     "text": [
      "100%|██████████| 237/237 [00:11<00:00, 20.06it/s]\n"
     ]
    },
    {
     "name": "stdout",
     "output_type": "stream",
     "text": [
      "6 avgloss 0.6282753148410893\n"
     ]
    },
    {
     "name": "stderr",
     "output_type": "stream",
     "text": [
      "100%|██████████| 237/237 [00:09<00:00, 23.86it/s]\n"
     ]
    },
    {
     "name": "stdout",
     "output_type": "stream",
     "text": [
      "7 avgloss 0.6297401914113685\n"
     ]
    },
    {
     "name": "stderr",
     "output_type": "stream",
     "text": [
      "100%|██████████| 237/237 [00:10<00:00, 23.27it/s]\n"
     ]
    },
    {
     "name": "stdout",
     "output_type": "stream",
     "text": [
      "8 avgloss 0.6274231576718359\n"
     ]
    },
    {
     "name": "stderr",
     "output_type": "stream",
     "text": [
      "100%|██████████| 237/237 [00:10<00:00, 22.61it/s]\n"
     ]
    },
    {
     "name": "stdout",
     "output_type": "stream",
     "text": [
      "9 avgloss 0.623486944014513\n"
     ]
    },
    {
     "name": "stderr",
     "output_type": "stream",
     "text": [
      "100%|██████████| 237/237 [00:09<00:00, 24.23it/s]\n",
      "100%|██████████| 23/23 [00:37<00:00,  1.61s/it]\n"
     ]
    },
    {
     "name": "stdout",
     "output_type": "stream",
     "text": [
      "10 avgloss 0.6285430082288975, avgvalmse 11.414409667894878, beforemse: 14.288568496704102\n"
     ]
    },
    {
     "name": "stderr",
     "output_type": "stream",
     "text": [
      "100%|██████████| 237/237 [00:10<00:00, 22.94it/s]\n"
     ]
    },
    {
     "name": "stdout",
     "output_type": "stream",
     "text": [
      "11 avgloss 0.6279820988449869\n"
     ]
    },
    {
     "name": "stderr",
     "output_type": "stream",
     "text": [
      "100%|██████████| 237/237 [00:09<00:00, 24.03it/s]\n"
     ]
    },
    {
     "name": "stdout",
     "output_type": "stream",
     "text": [
      "12 avgloss 0.6239260992168877\n"
     ]
    },
    {
     "name": "stderr",
     "output_type": "stream",
     "text": [
      "100%|██████████| 237/237 [00:11<00:00, 21.45it/s]\n"
     ]
    },
    {
     "name": "stdout",
     "output_type": "stream",
     "text": [
      "13 avgloss 0.6282374456461974\n"
     ]
    },
    {
     "name": "stderr",
     "output_type": "stream",
     "text": [
      "100%|██████████| 237/237 [00:10<00:00, 23.59it/s]\n"
     ]
    },
    {
     "name": "stdout",
     "output_type": "stream",
     "text": [
      "14 avgloss 0.62162687632605\n"
     ]
    },
    {
     "name": "stderr",
     "output_type": "stream",
     "text": [
      "100%|██████████| 237/237 [00:09<00:00, 23.74it/s]\n"
     ]
    },
    {
     "name": "stdout",
     "output_type": "stream",
     "text": [
      "15 avgloss 0.627450876095124\n"
     ]
    },
    {
     "name": "stderr",
     "output_type": "stream",
     "text": [
      "100%|██████████| 237/237 [00:10<00:00, 23.43it/s]\n"
     ]
    },
    {
     "name": "stdout",
     "output_type": "stream",
     "text": [
      "16 avgloss 0.6227635836802454\n"
     ]
    },
    {
     "name": "stderr",
     "output_type": "stream",
     "text": [
      "100%|██████████| 237/237 [00:10<00:00, 22.95it/s]\n"
     ]
    },
    {
     "name": "stdout",
     "output_type": "stream",
     "text": [
      "17 avgloss 0.625689890314255\n"
     ]
    },
    {
     "name": "stderr",
     "output_type": "stream",
     "text": [
      "100%|██████████| 237/237 [00:11<00:00, 21.16it/s]\n"
     ]
    },
    {
     "name": "stdout",
     "output_type": "stream",
     "text": [
      "18 avgloss 0.6255097893471456\n"
     ]
    },
    {
     "name": "stderr",
     "output_type": "stream",
     "text": [
      "100%|██████████| 237/237 [00:11<00:00, 20.64it/s]\n"
     ]
    },
    {
     "name": "stdout",
     "output_type": "stream",
     "text": [
      "19 avgloss 0.6234439375028329\n"
     ]
    },
    {
     "name": "stderr",
     "output_type": "stream",
     "text": [
      "100%|██████████| 237/237 [00:11<00:00, 20.16it/s]\n",
      "100%|██████████| 23/23 [00:37<00:00,  1.61s/it]\n"
     ]
    },
    {
     "name": "stdout",
     "output_type": "stream",
     "text": [
      "20 avgloss 0.6297613578506663, avgvalmse 11.809320513444588, beforemse: 14.615535736083984\n"
     ]
    },
    {
     "name": "stderr",
     "output_type": "stream",
     "text": [
      "100%|██████████| 237/237 [00:10<00:00, 21.71it/s]\n"
     ]
    },
    {
     "name": "stdout",
     "output_type": "stream",
     "text": [
      "21 avgloss 0.6163036722674149\n"
     ]
    },
    {
     "name": "stderr",
     "output_type": "stream",
     "text": [
      "100%|██████████| 237/237 [00:10<00:00, 22.26it/s]\n"
     ]
    },
    {
     "name": "stdout",
     "output_type": "stream",
     "text": [
      "22 avgloss 0.6222974353701757\n"
     ]
    },
    {
     "name": "stderr",
     "output_type": "stream",
     "text": [
      "100%|██████████| 237/237 [00:09<00:00, 24.31it/s]\n"
     ]
    },
    {
     "name": "stdout",
     "output_type": "stream",
     "text": [
      "23 avgloss 0.6300021679089542\n"
     ]
    },
    {
     "name": "stderr",
     "output_type": "stream",
     "text": [
      "100%|██████████| 237/237 [00:10<00:00, 22.75it/s]\n"
     ]
    },
    {
     "name": "stdout",
     "output_type": "stream",
     "text": [
      "24 avgloss 0.6244052356808497\n"
     ]
    },
    {
     "name": "stderr",
     "output_type": "stream",
     "text": [
      "100%|██████████| 237/237 [00:11<00:00, 20.51it/s]\n"
     ]
    },
    {
     "name": "stdout",
     "output_type": "stream",
     "text": [
      "25 avgloss 0.6197955759265755\n"
     ]
    },
    {
     "name": "stderr",
     "output_type": "stream",
     "text": [
      "100%|██████████| 237/237 [00:09<00:00, 24.27it/s]\n"
     ]
    },
    {
     "name": "stdout",
     "output_type": "stream",
     "text": [
      "26 avgloss 0.6295668777031235\n"
     ]
    },
    {
     "name": "stderr",
     "output_type": "stream",
     "text": [
      "100%|██████████| 237/237 [00:11<00:00, 21.30it/s]\n"
     ]
    },
    {
     "name": "stdout",
     "output_type": "stream",
     "text": [
      "27 avgloss 0.625040755870473\n"
     ]
    },
    {
     "name": "stderr",
     "output_type": "stream",
     "text": [
      "100%|██████████| 237/237 [00:11<00:00, 20.67it/s]\n"
     ]
    },
    {
     "name": "stdout",
     "output_type": "stream",
     "text": [
      "28 avgloss 0.6311146733881552\n"
     ]
    },
    {
     "name": "stderr",
     "output_type": "stream",
     "text": [
      "100%|██████████| 237/237 [00:10<00:00, 22.43it/s]\n"
     ]
    },
    {
     "name": "stdout",
     "output_type": "stream",
     "text": [
      "29 avgloss 0.625118241908681\n"
     ]
    },
    {
     "name": "stderr",
     "output_type": "stream",
     "text": [
      "100%|██████████| 237/237 [00:10<00:00, 22.89it/s]\n",
      "100%|██████████| 23/23 [00:37<00:00,  1.61s/it]\n"
     ]
    },
    {
     "name": "stdout",
     "output_type": "stream",
     "text": [
      "30 avgloss 0.6212587692315066, avgvalmse 11.822517651924088, beforemse: 14.729496002197266\n"
     ]
    },
    {
     "name": "stderr",
     "output_type": "stream",
     "text": [
      "100%|██████████| 237/237 [00:10<00:00, 23.38it/s]\n"
     ]
    },
    {
     "name": "stdout",
     "output_type": "stream",
     "text": [
      "31 avgloss 0.6179171218399258\n"
     ]
    },
    {
     "name": "stderr",
     "output_type": "stream",
     "text": [
      "100%|██████████| 237/237 [00:10<00:00, 21.93it/s]\n"
     ]
    },
    {
     "name": "stdout",
     "output_type": "stream",
     "text": [
      "32 avgloss 0.6296239008631888\n"
     ]
    },
    {
     "name": "stderr",
     "output_type": "stream",
     "text": [
      "100%|██████████| 237/237 [00:11<00:00, 20.56it/s]\n"
     ]
    },
    {
     "name": "stdout",
     "output_type": "stream",
     "text": [
      "33 avgloss 0.6230449645076623\n"
     ]
    },
    {
     "name": "stderr",
     "output_type": "stream",
     "text": [
      "100%|██████████| 237/237 [00:11<00:00, 20.70it/s]\n"
     ]
    },
    {
     "name": "stdout",
     "output_type": "stream",
     "text": [
      "34 avgloss 0.6280535493470445\n"
     ]
    },
    {
     "name": "stderr",
     "output_type": "stream",
     "text": [
      "100%|██████████| 237/237 [00:10<00:00, 22.48it/s]\n"
     ]
    },
    {
     "name": "stdout",
     "output_type": "stream",
     "text": [
      "35 avgloss 0.6246258569920616\n"
     ]
    },
    {
     "name": "stderr",
     "output_type": "stream",
     "text": [
      "100%|██████████| 237/237 [00:11<00:00, 20.66it/s]\n"
     ]
    },
    {
     "name": "stdout",
     "output_type": "stream",
     "text": [
      "36 avgloss 0.61397399467255\n"
     ]
    },
    {
     "name": "stderr",
     "output_type": "stream",
     "text": [
      "100%|██████████| 237/237 [00:10<00:00, 23.52it/s]\n"
     ]
    },
    {
     "name": "stdout",
     "output_type": "stream",
     "text": [
      "37 avgloss 0.6182851191562942\n"
     ]
    },
    {
     "name": "stderr",
     "output_type": "stream",
     "text": [
      "100%|██████████| 237/237 [00:09<00:00, 23.98it/s]\n"
     ]
    },
    {
     "name": "stdout",
     "output_type": "stream",
     "text": [
      "38 avgloss 0.6168110207163332\n"
     ]
    },
    {
     "name": "stderr",
     "output_type": "stream",
     "text": [
      "100%|██████████| 237/237 [00:10<00:00, 22.81it/s]\n"
     ]
    },
    {
     "name": "stdout",
     "output_type": "stream",
     "text": [
      "39 avgloss 0.6248307721021307\n"
     ]
    },
    {
     "name": "stderr",
     "output_type": "stream",
     "text": [
      "100%|██████████| 237/237 [00:10<00:00, 23.33it/s]\n",
      "100%|██████████| 23/23 [00:37<00:00,  1.62s/it]\n"
     ]
    },
    {
     "name": "stdout",
     "output_type": "stream",
     "text": [
      "40 avgloss 0.6178818939858851, avgvalmse 11.606199131753561, beforemse: 14.700361251831055\n"
     ]
    },
    {
     "name": "stderr",
     "output_type": "stream",
     "text": [
      "100%|██████████| 237/237 [00:10<00:00, 21.88it/s]\n"
     ]
    },
    {
     "name": "stdout",
     "output_type": "stream",
     "text": [
      "41 avgloss 0.6252050885168309\n"
     ]
    },
    {
     "name": "stderr",
     "output_type": "stream",
     "text": [
      "100%|██████████| 237/237 [00:09<00:00, 24.59it/s]\n"
     ]
    },
    {
     "name": "stdout",
     "output_type": "stream",
     "text": [
      "42 avgloss 0.6312661749401173\n"
     ]
    },
    {
     "name": "stderr",
     "output_type": "stream",
     "text": [
      "100%|██████████| 237/237 [00:09<00:00, 23.84it/s]\n"
     ]
    },
    {
     "name": "stdout",
     "output_type": "stream",
     "text": [
      "43 avgloss 0.6219623189435226\n"
     ]
    },
    {
     "name": "stderr",
     "output_type": "stream",
     "text": [
      "100%|██████████| 237/237 [00:10<00:00, 23.69it/s]\n"
     ]
    },
    {
     "name": "stdout",
     "output_type": "stream",
     "text": [
      "44 avgloss 0.6230154636036997\n"
     ]
    },
    {
     "name": "stderr",
     "output_type": "stream",
     "text": [
      "100%|██████████| 237/237 [00:09<00:00, 24.05it/s]\n"
     ]
    },
    {
     "name": "stdout",
     "output_type": "stream",
     "text": [
      "45 avgloss 0.6271216693306774\n"
     ]
    },
    {
     "name": "stderr",
     "output_type": "stream",
     "text": [
      "100%|██████████| 237/237 [00:10<00:00, 22.67it/s]\n"
     ]
    },
    {
     "name": "stdout",
     "output_type": "stream",
     "text": [
      "46 avgloss 0.6212973914065945\n"
     ]
    },
    {
     "name": "stderr",
     "output_type": "stream",
     "text": [
      "100%|██████████| 237/237 [00:10<00:00, 22.42it/s]\n"
     ]
    },
    {
     "name": "stdout",
     "output_type": "stream",
     "text": [
      "47 avgloss 0.6133224815758975\n"
     ]
    },
    {
     "name": "stderr",
     "output_type": "stream",
     "text": [
      "100%|██████████| 237/237 [00:11<00:00, 20.17it/s]\n"
     ]
    },
    {
     "name": "stdout",
     "output_type": "stream",
     "text": [
      "48 avgloss 0.6282566989524455\n"
     ]
    },
    {
     "name": "stderr",
     "output_type": "stream",
     "text": [
      "100%|██████████| 237/237 [00:10<00:00, 22.67it/s]\n"
     ]
    },
    {
     "name": "stdout",
     "output_type": "stream",
     "text": [
      "49 avgloss 0.6209332520448709\n"
     ]
    },
    {
     "name": "stderr",
     "output_type": "stream",
     "text": [
      "100%|██████████| 237/237 [00:09<00:00, 23.92it/s]\n",
      "100%|██████████| 23/23 [00:37<00:00,  1.63s/it]\n"
     ]
    },
    {
     "name": "stdout",
     "output_type": "stream",
     "text": [
      "50 avgloss 0.6189510569542269, avgvalmse 11.594048586754422, beforemse: 14.716779708862305\n"
     ]
    },
    {
     "name": "stderr",
     "output_type": "stream",
     "text": [
      "100%|██████████| 237/237 [00:11<00:00, 20.87it/s]\n"
     ]
    },
    {
     "name": "stdout",
     "output_type": "stream",
     "text": [
      "51 avgloss 0.6145745029177847\n"
     ]
    },
    {
     "name": "stderr",
     "output_type": "stream",
     "text": [
      "100%|██████████| 237/237 [00:10<00:00, 23.64it/s]\n"
     ]
    },
    {
     "name": "stdout",
     "output_type": "stream",
     "text": [
      "52 avgloss 0.6200942195920501\n"
     ]
    },
    {
     "name": "stderr",
     "output_type": "stream",
     "text": [
      "100%|██████████| 237/237 [00:09<00:00, 23.89it/s]\n"
     ]
    },
    {
     "name": "stdout",
     "output_type": "stream",
     "text": [
      "53 avgloss 0.6201061400180125\n"
     ]
    },
    {
     "name": "stderr",
     "output_type": "stream",
     "text": [
      "100%|██████████| 237/237 [00:09<00:00, 24.88it/s]\n"
     ]
    },
    {
     "name": "stdout",
     "output_type": "stream",
     "text": [
      "54 avgloss 0.6246274741138587\n"
     ]
    },
    {
     "name": "stderr",
     "output_type": "stream",
     "text": [
      "100%|██████████| 237/237 [00:10<00:00, 23.59it/s]\n"
     ]
    },
    {
     "name": "stdout",
     "output_type": "stream",
     "text": [
      "55 avgloss 0.626307441212457\n"
     ]
    },
    {
     "name": "stderr",
     "output_type": "stream",
     "text": [
      "100%|██████████| 237/237 [00:11<00:00, 20.32it/s]\n"
     ]
    },
    {
     "name": "stdout",
     "output_type": "stream",
     "text": [
      "56 avgloss 0.630282379403899\n"
     ]
    },
    {
     "name": "stderr",
     "output_type": "stream",
     "text": [
      "100%|██████████| 237/237 [00:11<00:00, 20.32it/s]\n"
     ]
    },
    {
     "name": "stdout",
     "output_type": "stream",
     "text": [
      "57 avgloss 0.6234408368038226\n"
     ]
    },
    {
     "name": "stderr",
     "output_type": "stream",
     "text": [
      "100%|██████████| 237/237 [00:11<00:00, 21.31it/s]\n"
     ]
    },
    {
     "name": "stdout",
     "output_type": "stream",
     "text": [
      "58 avgloss 0.6218680998444054\n"
     ]
    },
    {
     "name": "stderr",
     "output_type": "stream",
     "text": [
      "100%|██████████| 237/237 [00:09<00:00, 24.10it/s]\n"
     ]
    },
    {
     "name": "stdout",
     "output_type": "stream",
     "text": [
      "59 avgloss 0.6171599471870857\n"
     ]
    },
    {
     "name": "stderr",
     "output_type": "stream",
     "text": [
      "100%|██████████| 237/237 [00:10<00:00, 22.11it/s]\n",
      "100%|██████████| 23/23 [00:37<00:00,  1.61s/it]\n"
     ]
    },
    {
     "name": "stdout",
     "output_type": "stream",
     "text": [
      "60 avgloss 0.6178791339387371, avgvalmse 11.396386847663127, beforemse: 14.63599967956543\n"
     ]
    },
    {
     "name": "stderr",
     "output_type": "stream",
     "text": [
      "100%|██████████| 237/237 [00:10<00:00, 21.91it/s]\n"
     ]
    },
    {
     "name": "stdout",
     "output_type": "stream",
     "text": [
      "61 avgloss 0.6206945002330506\n"
     ]
    },
    {
     "name": "stderr",
     "output_type": "stream",
     "text": [
      "100%|██████████| 237/237 [00:09<00:00, 23.73it/s]\n"
     ]
    },
    {
     "name": "stdout",
     "output_type": "stream",
     "text": [
      "62 avgloss 0.611452250541011\n"
     ]
    },
    {
     "name": "stderr",
     "output_type": "stream",
     "text": [
      "100%|██████████| 237/237 [00:11<00:00, 20.21it/s]\n"
     ]
    },
    {
     "name": "stdout",
     "output_type": "stream",
     "text": [
      "63 avgloss 0.6315647063124532\n"
     ]
    },
    {
     "name": "stderr",
     "output_type": "stream",
     "text": [
      "100%|██████████| 237/237 [00:10<00:00, 22.65it/s]\n"
     ]
    },
    {
     "name": "stdout",
     "output_type": "stream",
     "text": [
      "64 avgloss 0.6214591677178813\n"
     ]
    },
    {
     "name": "stderr",
     "output_type": "stream",
     "text": [
      "100%|██████████| 237/237 [00:10<00:00, 23.57it/s]\n"
     ]
    },
    {
     "name": "stdout",
     "output_type": "stream",
     "text": [
      "65 avgloss 0.6219578482179199\n"
     ]
    },
    {
     "name": "stderr",
     "output_type": "stream",
     "text": [
      "100%|██████████| 237/237 [00:10<00:00, 23.57it/s]\n"
     ]
    },
    {
     "name": "stdout",
     "output_type": "stream",
     "text": [
      "66 avgloss 0.6194070146305148\n"
     ]
    },
    {
     "name": "stderr",
     "output_type": "stream",
     "text": [
      "100%|██████████| 237/237 [00:09<00:00, 24.82it/s]\n"
     ]
    },
    {
     "name": "stdout",
     "output_type": "stream",
     "text": [
      "67 avgloss 0.6192451114392985\n"
     ]
    },
    {
     "name": "stderr",
     "output_type": "stream",
     "text": [
      "100%|██████████| 237/237 [00:09<00:00, 24.62it/s]\n"
     ]
    },
    {
     "name": "stdout",
     "output_type": "stream",
     "text": [
      "68 avgloss 0.6215079370178754\n"
     ]
    },
    {
     "name": "stderr",
     "output_type": "stream",
     "text": [
      "100%|██████████| 237/237 [00:10<00:00, 21.83it/s]\n"
     ]
    },
    {
     "name": "stdout",
     "output_type": "stream",
     "text": [
      "69 avgloss 0.6167141909589244\n"
     ]
    },
    {
     "name": "stderr",
     "output_type": "stream",
     "text": [
      "100%|██████████| 237/237 [00:11<00:00, 20.53it/s]\n",
      "100%|██████████| 23/23 [00:37<00:00,  1.62s/it]\n"
     ]
    },
    {
     "name": "stdout",
     "output_type": "stream",
     "text": [
      "70 avgloss 0.635216951873232, avgvalmse 11.461121965976838, beforemse: 14.75210952758789\n"
     ]
    },
    {
     "name": "stderr",
     "output_type": "stream",
     "text": [
      "100%|██████████| 237/237 [00:10<00:00, 22.40it/s]\n"
     ]
    },
    {
     "name": "stdout",
     "output_type": "stream",
     "text": [
      "71 avgloss 0.6220005359579239\n"
     ]
    },
    {
     "name": "stderr",
     "output_type": "stream",
     "text": [
      "100%|██████████| 237/237 [00:10<00:00, 22.51it/s]\n"
     ]
    },
    {
     "name": "stdout",
     "output_type": "stream",
     "text": [
      "72 avgloss 0.6267822067948836\n"
     ]
    },
    {
     "name": "stderr",
     "output_type": "stream",
     "text": [
      "100%|██████████| 237/237 [00:11<00:00, 21.48it/s]\n"
     ]
    },
    {
     "name": "stdout",
     "output_type": "stream",
     "text": [
      "73 avgloss 0.6189477781957715\n"
     ]
    },
    {
     "name": "stderr",
     "output_type": "stream",
     "text": [
      "100%|██████████| 237/237 [00:10<00:00, 21.82it/s]\n"
     ]
    },
    {
     "name": "stdout",
     "output_type": "stream",
     "text": [
      "74 avgloss 0.6113576552032921\n"
     ]
    },
    {
     "name": "stderr",
     "output_type": "stream",
     "text": [
      "100%|██████████| 237/237 [00:10<00:00, 22.95it/s]\n"
     ]
    },
    {
     "name": "stdout",
     "output_type": "stream",
     "text": [
      "75 avgloss 0.6222772114136048\n"
     ]
    },
    {
     "name": "stderr",
     "output_type": "stream",
     "text": [
      "100%|██████████| 237/237 [00:10<00:00, 22.44it/s]\n"
     ]
    },
    {
     "name": "stdout",
     "output_type": "stream",
     "text": [
      "76 avgloss 0.6229729329231922\n"
     ]
    },
    {
     "name": "stderr",
     "output_type": "stream",
     "text": [
      "100%|██████████| 237/237 [00:09<00:00, 24.02it/s]\n"
     ]
    },
    {
     "name": "stdout",
     "output_type": "stream",
     "text": [
      "77 avgloss 0.6157593950943605\n"
     ]
    },
    {
     "name": "stderr",
     "output_type": "stream",
     "text": [
      "100%|██████████| 237/237 [00:10<00:00, 22.81it/s]\n"
     ]
    },
    {
     "name": "stdout",
     "output_type": "stream",
     "text": [
      "78 avgloss 0.6246429882975068\n"
     ]
    },
    {
     "name": "stderr",
     "output_type": "stream",
     "text": [
      "100%|██████████| 237/237 [00:10<00:00, 22.48it/s]\n"
     ]
    },
    {
     "name": "stdout",
     "output_type": "stream",
     "text": [
      "79 avgloss 0.6129164024244381\n"
     ]
    },
    {
     "name": "stderr",
     "output_type": "stream",
     "text": [
      "100%|██████████| 237/237 [00:10<00:00, 22.21it/s]\n",
      "100%|██████████| 23/23 [00:37<00:00,  1.65s/it]\n"
     ]
    },
    {
     "name": "stdout",
     "output_type": "stream",
     "text": [
      "80 avgloss 0.622816378934474, avgvalmse 11.570579057838371, beforemse: 14.777853012084961\n"
     ]
    },
    {
     "name": "stderr",
     "output_type": "stream",
     "text": [
      "100%|██████████| 237/237 [00:10<00:00, 22.89it/s]\n"
     ]
    },
    {
     "name": "stdout",
     "output_type": "stream",
     "text": [
      "81 avgloss 0.6160459317235504\n"
     ]
    },
    {
     "name": "stderr",
     "output_type": "stream",
     "text": [
      "100%|██████████| 237/237 [00:11<00:00, 20.51it/s]\n"
     ]
    },
    {
     "name": "stdout",
     "output_type": "stream",
     "text": [
      "82 avgloss 0.6181443720930236\n"
     ]
    },
    {
     "name": "stderr",
     "output_type": "stream",
     "text": [
      "100%|██████████| 237/237 [00:10<00:00, 23.67it/s]\n"
     ]
    },
    {
     "name": "stdout",
     "output_type": "stream",
     "text": [
      "83 avgloss 0.6045368946302793\n"
     ]
    },
    {
     "name": "stderr",
     "output_type": "stream",
     "text": [
      "100%|██████████| 237/237 [00:10<00:00, 23.48it/s]\n"
     ]
    },
    {
     "name": "stdout",
     "output_type": "stream",
     "text": [
      "84 avgloss 0.6152875794388574\n"
     ]
    },
    {
     "name": "stderr",
     "output_type": "stream",
     "text": [
      "100%|██████████| 237/237 [00:10<00:00, 22.71it/s]\n"
     ]
    },
    {
     "name": "stdout",
     "output_type": "stream",
     "text": [
      "85 avgloss 0.6307994034219895\n"
     ]
    },
    {
     "name": "stderr",
     "output_type": "stream",
     "text": [
      "100%|██████████| 237/237 [00:10<00:00, 23.35it/s]\n"
     ]
    },
    {
     "name": "stdout",
     "output_type": "stream",
     "text": [
      "86 avgloss 0.6160101845294614\n"
     ]
    },
    {
     "name": "stderr",
     "output_type": "stream",
     "text": [
      "100%|██████████| 237/237 [00:10<00:00, 22.28it/s]\n"
     ]
    },
    {
     "name": "stdout",
     "output_type": "stream",
     "text": [
      "87 avgloss 0.6229154465067739\n"
     ]
    },
    {
     "name": "stderr",
     "output_type": "stream",
     "text": [
      "100%|██████████| 237/237 [00:10<00:00, 22.06it/s]\n"
     ]
    },
    {
     "name": "stdout",
     "output_type": "stream",
     "text": [
      "88 avgloss 0.6274985959006765\n"
     ]
    },
    {
     "name": "stderr",
     "output_type": "stream",
     "text": [
      "100%|██████████| 237/237 [00:10<00:00, 22.77it/s]\n"
     ]
    },
    {
     "name": "stdout",
     "output_type": "stream",
     "text": [
      "89 avgloss 0.616854998381329\n"
     ]
    },
    {
     "name": "stderr",
     "output_type": "stream",
     "text": [
      "100%|██████████| 237/237 [00:10<00:00, 23.28it/s]\n",
      "100%|██████████| 23/23 [00:38<00:00,  1.67s/it]\n"
     ]
    },
    {
     "name": "stdout",
     "output_type": "stream",
     "text": [
      "90 avgloss 0.6210047849119967, avgvalmse 11.511149643098383, beforemse: 14.76513671875\n"
     ]
    },
    {
     "name": "stderr",
     "output_type": "stream",
     "text": [
      "100%|██████████| 237/237 [00:10<00:00, 21.74it/s]\n"
     ]
    },
    {
     "name": "stdout",
     "output_type": "stream",
     "text": [
      "91 avgloss 0.6194308831470425\n"
     ]
    },
    {
     "name": "stderr",
     "output_type": "stream",
     "text": [
      "100%|██████████| 237/237 [00:09<00:00, 24.30it/s]\n"
     ]
    },
    {
     "name": "stdout",
     "output_type": "stream",
     "text": [
      "92 avgloss 0.6254353181219302\n"
     ]
    },
    {
     "name": "stderr",
     "output_type": "stream",
     "text": [
      "100%|██████████| 237/237 [00:09<00:00, 23.93it/s]\n"
     ]
    },
    {
     "name": "stdout",
     "output_type": "stream",
     "text": [
      "93 avgloss 0.6220478136328202\n"
     ]
    },
    {
     "name": "stderr",
     "output_type": "stream",
     "text": [
      "100%|██████████| 237/237 [00:11<00:00, 20.72it/s]\n"
     ]
    },
    {
     "name": "stdout",
     "output_type": "stream",
     "text": [
      "94 avgloss 0.6172266313295324\n"
     ]
    },
    {
     "name": "stderr",
     "output_type": "stream",
     "text": [
      "100%|██████████| 237/237 [00:10<00:00, 21.91it/s]\n"
     ]
    },
    {
     "name": "stdout",
     "output_type": "stream",
     "text": [
      "95 avgloss 0.6273614995590242\n"
     ]
    },
    {
     "name": "stderr",
     "output_type": "stream",
     "text": [
      "100%|██████████| 237/237 [00:11<00:00, 21.17it/s]\n"
     ]
    },
    {
     "name": "stdout",
     "output_type": "stream",
     "text": [
      "96 avgloss 0.6174813902579279\n"
     ]
    },
    {
     "name": "stderr",
     "output_type": "stream",
     "text": [
      "100%|██████████| 237/237 [00:11<00:00, 20.06it/s]\n"
     ]
    },
    {
     "name": "stdout",
     "output_type": "stream",
     "text": [
      "97 avgloss 0.6148093950144852\n"
     ]
    },
    {
     "name": "stderr",
     "output_type": "stream",
     "text": [
      "100%|██████████| 237/237 [00:10<00:00, 22.34it/s]\n"
     ]
    },
    {
     "name": "stdout",
     "output_type": "stream",
     "text": [
      "98 avgloss 0.6147431077333442\n"
     ]
    },
    {
     "name": "stderr",
     "output_type": "stream",
     "text": [
      "100%|██████████| 237/237 [00:10<00:00, 21.73it/s]\n"
     ]
    },
    {
     "name": "stdout",
     "output_type": "stream",
     "text": [
      "99 avgloss 0.6155470764335198\n"
     ]
    },
    {
     "name": "stderr",
     "output_type": "stream",
     "text": [
      "100%|██████████| 237/237 [00:09<00:00, 24.49it/s]\n",
      "100%|██████████| 23/23 [00:39<00:00,  1.70s/it]\n"
     ]
    },
    {
     "name": "stdout",
     "output_type": "stream",
     "text": [
      "100 avgloss 0.6202309620782795, avgvalmse 11.37491571187731, beforemse: 14.607922554016113\n"
     ]
    },
    {
     "name": "stderr",
     "output_type": "stream",
     "text": [
      " 47%|████▋     | 111/237 [00:05<00:06, 19.98it/s]"
     ]
    }
   ],
   "source": [
    "l = \"\"\n",
    "best_mse = 1\n",
    "loss = 0\n",
    "for e in range(num_epochs):\n",
    "    loss = train(diffusion, ema, gamma, trainloader, optimizer, lr_scheduler)\n",
    "    if (e % 10 == 0) and (e > 0):\n",
    "        mse, bmse = evaluate(e, ema, valloader)\n",
    "        print(e, \"avgloss {}, avgvalmse {}, beforemse: {}\".format(loss, mse, bmse))\n",
    "        l += \"{} avgloss {}, avgvalmse {}, beforemse: {}\\n\".format(e, loss, mse, bmse)\n",
    "\n",
    "        if mse < best_mse:\n",
    "            best_mse = mse\n",
    "            torch.save({\n",
    "                'e': e,\n",
    "                'ema_model': ema.ema_model.state_dict(),\n",
    "                'model': diffusion.state_dict(),\n",
    "                'optimizer_state_dict': optimizer.state_dict()\n",
    "            }, save_location+\"best_model.pt\")\n",
    "    else:\n",
    "        print(e, \"avgloss {}\".format(loss))\n",
    "        l += \"{} avgloss {}\\n\".format(e, loss)\n",
    "\n",
    "    # if ((e % update_epochs  == 0) and e > 500):\n",
    "    #     trainloader = update(int((num_epochs-e) / update_epochs), ema, updateloader, trainset, ns, update_timesteps)\n",
    "\n",
    "    with open(save_location+'output.txt', 'w') as file:\n",
    "        file.write(l)"
   ]
  }
 ],
 "metadata": {
  "kernelspec": {
   "display_name": "s2pk",
   "language": "python",
   "name": "python3"
  },
  "language_info": {
   "codemirror_mode": {
    "name": "ipython",
    "version": 3
   },
   "file_extension": ".py",
   "mimetype": "text/x-python",
   "name": "python",
   "nbconvert_exporter": "python",
   "pygments_lexer": "ipython3",
   "version": "3.12.2"
  }
 },
 "nbformat": 4,
 "nbformat_minor": 2
}
